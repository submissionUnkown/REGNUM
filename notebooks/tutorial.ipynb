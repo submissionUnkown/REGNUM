{
 "cells": [
  {
   "cell_type": "code",
   "execution_count": 2,
   "id": "88d8791f",
   "metadata": {},
   "outputs": [],
   "source": [
    "%load_ext autoreload\n",
    "%autoreload"
   ]
  },
  {
   "cell_type": "code",
   "execution_count": 3,
   "id": "a53325f8",
   "metadata": {},
   "outputs": [],
   "source": [
    "import sys\n",
    "sys.path.insert(0, '../src')\n",
    "from data_loader import GeneralDataLoader\n",
    "from graph_data import StarDogGraph\n",
    "from parent_ruleminer import RunParseAMIE\n",
    "from tqdm import tqdm\n",
    "from runner import run\n",
    "import random"
   ]
  },
  {
   "cell_type": "markdown",
   "id": "3935ad9c",
   "metadata": {},
   "source": [
    "## args"
   ]
  },
  {
   "cell_type": "code",
   "execution_count": 5,
   "id": "59466008",
   "metadata": {},
   "outputs": [],
   "source": [
    "f_name= 'DB15K_num'\n",
    "base = '../data'\n",
    "p = f'{base}/datasets/{f_name}'\n",
    "PATH_RM = f\"{base}/rule_miners/amie_jar/amie3.jar\"\n",
    "PATH_result = f\"{base}/results/{f_name}/\""
   ]
  },
  {
   "cell_type": "markdown",
   "id": "4e72102c",
   "metadata": {},
   "source": [
    "## dataloader"
   ]
  },
  {
   "cell_type": "code",
   "execution_count": 6,
   "id": "453e7746",
   "metadata": {},
   "outputs": [],
   "source": [
    "dl = GeneralDataLoader(path_t=f'{p}/train_dl.tsv', path_numerical_preds=f'{p}/numericals.tsv')\n",
    "dl_test = GeneralDataLoader(path_t=f'{p}/test_dl.tsv', path_numerical_preds=f'{p}/numericals.tsv')"
   ]
  },
  {
   "cell_type": "code",
   "execution_count": 20,
   "id": "e9d5542b",
   "metadata": {},
   "outputs": [
    {
     "data": {
      "text/html": [
       "<div>\n",
       "<style scoped>\n",
       "    .dataframe tbody tr th:only-of-type {\n",
       "        vertical-align: middle;\n",
       "    }\n",
       "\n",
       "    .dataframe tbody tr th {\n",
       "        vertical-align: top;\n",
       "    }\n",
       "\n",
       "    .dataframe thead th {\n",
       "        text-align: right;\n",
       "    }\n",
       "</style>\n",
       "<table border=\"1\" class=\"dataframe\">\n",
       "  <thead>\n",
       "    <tr style=\"text-align: right;\">\n",
       "      <th></th>\n",
       "      <th>subject</th>\n",
       "      <th>predicate</th>\n",
       "      <th>object</th>\n",
       "    </tr>\n",
       "  </thead>\n",
       "  <tbody>\n",
       "    <tr>\n",
       "      <th>0</th>\n",
       "      <td>http://dbpedia.org/resource/Anarchism</td>\n",
       "      <td>http://www.w3.org/2000/01/rdf-schema%23seeAlso</td>\n",
       "      <td>http://dbpedia.org/resource/Franciaorsz%C3%A1g</td>\n",
       "    </tr>\n",
       "    <tr>\n",
       "      <th>1</th>\n",
       "      <td>http://dbpedia.org/resource/Alabama</td>\n",
       "      <td>http://dbpedia.org/ontology/country</td>\n",
       "      <td>http://dbpedia.org/resource/United_States</td>\n",
       "    </tr>\n",
       "    <tr>\n",
       "      <th>2</th>\n",
       "      <td>http://dbpedia.org/resource/Alabama</td>\n",
       "      <td>http://dbpedia.org/ontology/language</td>\n",
       "      <td>http://dbpedia.org/resource/English_Americans</td>\n",
       "    </tr>\n",
       "  </tbody>\n",
       "</table>\n",
       "</div>"
      ],
      "text/plain": [
       "                                 subject  \\\n",
       "0  http://dbpedia.org/resource/Anarchism   \n",
       "1    http://dbpedia.org/resource/Alabama   \n",
       "2    http://dbpedia.org/resource/Alabama   \n",
       "\n",
       "                                        predicate  \\\n",
       "0  http://www.w3.org/2000/01/rdf-schema%23seeAlso   \n",
       "1             http://dbpedia.org/ontology/country   \n",
       "2            http://dbpedia.org/ontology/language   \n",
       "\n",
       "                                           object  \n",
       "0  http://dbpedia.org/resource/Franciaorsz%C3%A1g  \n",
       "1       http://dbpedia.org/resource/United_States  \n",
       "2   http://dbpedia.org/resource/English_Americans  "
      ]
     },
     "execution_count": 20,
     "metadata": {},
     "output_type": "execute_result"
    }
   ],
   "source": [
    "dl.df.head(3)"
   ]
  },
  {
   "cell_type": "markdown",
   "id": "1a4d23f8",
   "metadata": {},
   "source": [
    "## database"
   ]
  },
  {
   "cell_type": "code",
   "execution_count": 8,
   "id": "ae88be38",
   "metadata": {},
   "outputs": [
    {
     "name": "stdout",
     "output_type": "stream",
     "text": [
      "../data/results/DB15K_num/graph.ttl\n"
     ]
    },
    {
     "name": "stderr",
     "output_type": "stream",
     "text": [
      "48078it [00:02, 23916.95it/s]\n",
      "72678it [00:02, 25485.98it/s]\n"
     ]
    },
    {
     "name": "stdout",
     "output_type": "stream",
     "text": [
      "saving...\n",
      "../data/results/DB15K_num/graph.ttl\n"
     ]
    }
   ],
   "source": [
    "gr = StarDogGraph(dl, database_name='DB15K_num', force=True, p_save_g=PATH_result+'graph.ttl')"
   ]
  },
  {
   "cell_type": "markdown",
   "id": "358b151d",
   "metadata": {},
   "source": [
    "## Rule miner\n"
   ]
  },
  {
   "cell_type": "code",
   "execution_count": 9,
   "id": "adb2c901",
   "metadata": {},
   "outputs": [
    {
     "name": "stdout",
     "output_type": "stream",
     "text": [
      "default is True java -jar ../data/rule_miners/amie_jar/amie3.jar ../data/results/DB15K_num/train.txt\n"
     ]
    },
    {
     "name": "stderr",
     "output_type": "stream",
     "text": [
      "Using the default schema relations\n"
     ]
    },
    {
     "name": "stdout",
     "output_type": "stream",
     "text": [
      "number of mined rules: 2689\n"
     ]
    }
   ],
   "source": [
    "amie = RunParseAMIE(data=dl.df, path_rule_miner=PATH_RM,\n",
    "                    path_save_rules=PATH_result)\n",
    "rules = amie.parse()"
   ]
  },
  {
   "cell_type": "code",
   "execution_count": 21,
   "id": "56a06a07",
   "metadata": {
    "scrolled": true
   },
   "outputs": [
    {
     "name": "stdout",
     "output_type": "stream",
     "text": [
      "some rules mined by AMIE\n",
      "?f  http://dbpedia.org/ontology/executiveProducer  ?b  ?a  http://dbpedia.org/ontology/subsequentWork  ?f   => ?a  http://dbpedia.org/ontology/executiveProducer  ?b\n",
      "?e  http://dbpedia.org/ontology/recordLabel  ?a  ?e  http://www.w3.org/1999/02/22-rdf-syntax-ns%23type  ?b   => ?a  http://www.w3.org/1999/02/22-rdf-syntax-ns%23type  ?b\n",
      "?e  http://dbpedia.org/ontology/starring  ?a  ?e  http://www.w3.org/1999/02/22-rdf-syntax-ns%23type  ?b   => ?a  http://www.w3.org/1999/02/22-rdf-syntax-ns%23type  ?b\n"
     ]
    }
   ],
   "source": [
    "print(\"some rules mined by AMIE\",  *random.choices(rules, k=3), sep='\\n')"
   ]
  },
  {
   "cell_type": "markdown",
   "id": "8a1b088e",
   "metadata": {},
   "source": [
    "## Enrich Rules"
   ]
  },
  {
   "cell_type": "code",
   "execution_count": 18,
   "id": "c34e1b20",
   "metadata": {
    "scrolled": true
   },
   "outputs": [
    {
     "name": "stderr",
     "output_type": "stream",
     "text": [
      "100%|██████████████████████████████████████████████████████████████████████████████████████████████████████████████████████████████████████████████████| 5/5 [00:04<00:00,  1.02it/s]\n"
     ]
    }
   ],
   "source": [
    "dict_all_new_rules_f_score = run(rules[1324:1329], gr, list(dl.numerical_preds))"
   ]
  },
  {
   "cell_type": "code",
   "execution_count": 19,
   "id": "2f8b5c55",
   "metadata": {},
   "outputs": [
    {
     "data": {
      "text/plain": [
       "{0: {'parent_rule': ?a  http://dbpedia.org/ontology/country  ?b  ?a  http://www.w3.org/2000/01/rdf-schema%23seeAlso  ?b   => ?a  http://dbpedia.org/ontology/region  ?b,\n",
       "  'numerical_rules': [{'parent_rule': ?a  http://dbpedia.org/ontology/country  ?b  ?a  http://www.w3.org/2000/01/rdf-schema%23seeAlso  ?b   => ?a  http://dbpedia.org/ontology/region  ?b,\n",
       "    'include_exclude': 'exclude',\n",
       "    'numerical_part': {('?a',\n",
       "      'http://dbpedia.org/ontology/populationTotal'): {'<=': 332052.0, '>': 179508.5}},\n",
       "    'support': 8,\n",
       "    'pca_body_size': 18,\n",
       "    'pca_confidence': 0.4444444444444444,\n",
       "    'head_coverage': 0.05333333333333334,\n",
       "    'f_score': 0.09523809523809523,\n",
       "    'level': 1},\n",
       "   {'parent_rule': ?a  http://dbpedia.org/ontology/country  ?b  ?a  http://www.w3.org/2000/01/rdf-schema%23seeAlso  ?b   => ?a  http://dbpedia.org/ontology/region  ?b,\n",
       "    'include_exclude': 'include',\n",
       "    'numerical_part': {('?b',\n",
       "      'http://www.w3.org/2003/01/geo/wgs84_pos%23long'): {'<=': 7.417081356048584}},\n",
       "    'support': 7,\n",
       "    'pca_body_size': 8,\n",
       "    'pca_confidence': 0.875,\n",
       "    'head_coverage': 0.04666666666666667,\n",
       "    'f_score': 0.08860759493670886,\n",
       "    'level': 1},\n",
       "   {'parent_rule': ?a  http://dbpedia.org/ontology/country  ?b  ?a  http://www.w3.org/2000/01/rdf-schema%23seeAlso  ?b   => ?a  http://dbpedia.org/ontology/region  ?b,\n",
       "    'include_exclude': 'exclude',\n",
       "    'numerical_part': {('?b',\n",
       "      'http://www.w3.org/2003/01/geo/wgs84_pos%23long'): {'>': 7.417081356048584,\n",
       "      '<=': 12.933330059051514}},\n",
       "    'support': 8,\n",
       "    'pca_body_size': 11,\n",
       "    'pca_confidence': 0.7272727272727273,\n",
       "    'head_coverage': 0.05333333333333334,\n",
       "    'f_score': 0.09937888198757765,\n",
       "    'level': 1},\n",
       "   {'parent_rule': ?a  http://dbpedia.org/ontology/country  ?b  ?a  http://www.w3.org/2000/01/rdf-schema%23seeAlso  ?b   => ?a  http://dbpedia.org/ontology/region  ?b,\n",
       "    'include_exclude': 'exclude',\n",
       "    'numerical_part': {('?b',\n",
       "      'http://dbpedia.org/ontology/areaTotal'): {'<=': 329179709440.0, '>': 271916359680.0}},\n",
       "    'support': 8,\n",
       "    'pca_body_size': 12,\n",
       "    'pca_confidence': 0.6666666666666666,\n",
       "    'head_coverage': 0.05333333333333334,\n",
       "    'f_score': 0.09876543209876544,\n",
       "    'level': 1},\n",
       "   {'parent_rule': ?a  http://dbpedia.org/ontology/country  ?b  ?a  http://www.w3.org/2000/01/rdf-schema%23seeAlso  ?b   => ?a  http://dbpedia.org/ontology/region  ?b,\n",
       "    'include_exclude': 'exclude',\n",
       "    'numerical_part': {('?b',\n",
       "      'http://dbpedia.org/ontology/populationDensity'): {'>': 158.78449630737305,\n",
       "      '<=': 213.22494506835938}},\n",
       "    'support': 8,\n",
       "    'pca_body_size': 11,\n",
       "    'pca_confidence': 0.7272727272727273,\n",
       "    'head_coverage': 0.05333333333333334,\n",
       "    'f_score': 0.09937888198757765,\n",
       "    'level': 1},\n",
       "   {'parent_rule': ?a  http://dbpedia.org/ontology/country  ?b  ?a  http://www.w3.org/2000/01/rdf-schema%23seeAlso  ?b   => ?a  http://dbpedia.org/ontology/region  ?b,\n",
       "    'include_exclude': 'exclude',\n",
       "    'numerical_part': {('?a',\n",
       "      'http://www.w3.org/2003/01/geo/wgs84_pos%23lat'): {'<=': 50.9564151763916,\n",
       "      '>': 44.18055534362793}},\n",
       "    'support': 8,\n",
       "    'pca_body_size': 14,\n",
       "    'pca_confidence': 0.5714285714285714,\n",
       "    'head_coverage': 0.05333333333333334,\n",
       "    'f_score': 0.0975609756097561,\n",
       "    'level': 1},\n",
       "   {'parent_rule': ?a  http://dbpedia.org/ontology/country  ?b  ?a  http://www.w3.org/2000/01/rdf-schema%23seeAlso  ?b   => ?a  http://dbpedia.org/ontology/region  ?b,\n",
       "    'include_exclude': 'include',\n",
       "    'numerical_part': {('?b',\n",
       "      'http://www.w3.org/2003/01/geo/wgs84_pos%23lat'): {'>': 45.37833595275879}},\n",
       "    'support': 8,\n",
       "    'pca_body_size': 11,\n",
       "    'pca_confidence': 0.7272727272727273,\n",
       "    'head_coverage': 0.05333333333333334,\n",
       "    'f_score': 0.09937888198757765,\n",
       "    'level': 1},\n",
       "   {'parent_rule': ?a  http://dbpedia.org/ontology/country  ?b  ?a  http://www.w3.org/2000/01/rdf-schema%23seeAlso  ?b   => ?a  http://dbpedia.org/ontology/region  ?b,\n",
       "    'include_exclude': 'exclude',\n",
       "    'numerical_part': {('?b',\n",
       "      'http://www.w3.org/2003/01/geo/wgs84_pos%23lat'): {'<=': 45.37833595275879}},\n",
       "    'support': 8,\n",
       "    'pca_body_size': 11,\n",
       "    'pca_confidence': 0.7272727272727273,\n",
       "    'head_coverage': 0.05333333333333334,\n",
       "    'f_score': 0.09937888198757765,\n",
       "    'level': 1},\n",
       "   {'parent_rule': ?a  http://dbpedia.org/ontology/country  ?b  ?a  http://www.w3.org/2000/01/rdf-schema%23seeAlso  ?b   => ?a  http://dbpedia.org/ontology/region  ?b,\n",
       "    'include_exclude': 'include',\n",
       "    'numerical_part': {('?a',\n",
       "      'http://www.w3.org/2003/01/geo/wgs84_pos%23long'): {'<=': 7.974816799163818}},\n",
       "    'support': 8,\n",
       "    'pca_body_size': 11,\n",
       "    'pca_confidence': 0.7272727272727273,\n",
       "    'head_coverage': 0.05333333333333334,\n",
       "    'f_score': 0.09937888198757765,\n",
       "    'level': 1},\n",
       "   {'parent_rule': ?a  http://dbpedia.org/ontology/country  ?b  ?a  http://www.w3.org/2000/01/rdf-schema%23seeAlso  ?b   => ?a  http://dbpedia.org/ontology/region  ?b,\n",
       "    'include_exclude': 'exclude',\n",
       "    'numerical_part': {('?a',\n",
       "      'http://www.w3.org/2003/01/geo/wgs84_pos%23long'): {'>': 7.974816799163818}},\n",
       "    'support': 8,\n",
       "    'pca_body_size': 11,\n",
       "    'pca_confidence': 0.7272727272727273,\n",
       "    'head_coverage': 0.05333333333333334,\n",
       "    'f_score': 0.09937888198757765,\n",
       "    'level': 1},\n",
       "   {'parent_rule': ?a  http://dbpedia.org/ontology/country  ?b  ?a  http://www.w3.org/2000/01/rdf-schema%23seeAlso  ?b   => ?a  http://dbpedia.org/ontology/region  ?b,\n",
       "    'include_exclude': 'include',\n",
       "    'numerical_part': {('?b',\n",
       "      'http://dbpedia.org/ontology/populationTotal'): {'>': 62892000.0}},\n",
       "    'support': 8,\n",
       "    'pca_body_size': 11,\n",
       "    'pca_confidence': 0.7272727272727273,\n",
       "    'head_coverage': 0.05333333333333334,\n",
       "    'f_score': 0.09937888198757765,\n",
       "    'level': 1},\n",
       "   {'parent_rule': ?a  http://dbpedia.org/ontology/country  ?b  ?a  http://www.w3.org/2000/01/rdf-schema%23seeAlso  ?b   => ?a  http://dbpedia.org/ontology/region  ?b,\n",
       "    'include_exclude': 'exclude',\n",
       "    'numerical_part': {('?b',\n",
       "      'http://dbpedia.org/ontology/populationTotal'): {'<=': 62892000.0}},\n",
       "    'support': 8,\n",
       "    'pca_body_size': 11,\n",
       "    'pca_confidence': 0.7272727272727273,\n",
       "    'head_coverage': 0.05333333333333334,\n",
       "    'f_score': 0.09937888198757765,\n",
       "    'level': 1}]},\n",
       " 1: {'parent_rule': ?a  http://dbpedia.org/ontology/deathPlace  ?f  ?b  http://dbpedia.org/ontology/largestCity  ?f   => ?a  http://dbpedia.org/ontology/region  ?b,\n",
       "  'numerical_rules': [{'parent_rule': ?a  http://dbpedia.org/ontology/deathPlace  ?f  ?b  http://dbpedia.org/ontology/largestCity  ?f   => ?a  http://dbpedia.org/ontology/region  ?b,\n",
       "    'include_exclude': 'include',\n",
       "    'numerical_part': {('?b',\n",
       "      'http://dbpedia.org/ontology/areaTotal'): {'>': 111714320384.0}},\n",
       "    'support': 3,\n",
       "    'pca_body_size': 10,\n",
       "    'pca_confidence': 0.3,\n",
       "    'head_coverage': 0.02,\n",
       "    'f_score': 0.0375,\n",
       "    'level': 1},\n",
       "   {'parent_rule': ?a  http://dbpedia.org/ontology/deathPlace  ?f  ?b  http://dbpedia.org/ontology/largestCity  ?f   => ?a  http://dbpedia.org/ontology/region  ?b,\n",
       "    'include_exclude': 'exclude',\n",
       "    'numerical_part': {('?b',\n",
       "      'http://dbpedia.org/ontology/areaTotal'): {'<=': 111714320384.0}},\n",
       "    'support': 3,\n",
       "    'pca_body_size': 10,\n",
       "    'pca_confidence': 0.3,\n",
       "    'head_coverage': 0.02,\n",
       "    'f_score': 0.0375,\n",
       "    'level': 1}]},\n",
       " 2: {'parent_rule': ?f  http://dbpedia.org/ontology/region  ?b  ?a  http://www.w3.org/2000/01/rdf-schema%23seeAlso  ?f   => ?a  http://dbpedia.org/ontology/region  ?b,\n",
       "  'numerical_rules': []},\n",
       " 3: {'parent_rule': ?b  http://dbpedia.org/ontology/capital  ?f  ?a  http://dbpedia.org/ontology/deathPlace  ?f   => ?a  http://dbpedia.org/ontology/region  ?b,\n",
       "  'numerical_rules': [{'parent_rule': ?b  http://dbpedia.org/ontology/capital  ?f  ?a  http://dbpedia.org/ontology/deathPlace  ?f   => ?a  http://dbpedia.org/ontology/region  ?b,\n",
       "    'include_exclude': 'exclude',\n",
       "    'numerical_part': {('?f',\n",
       "      'http://www.w3.org/2003/01/geo/wgs84_pos%23long'): {'>': -40.32777810096741,\n",
       "      '<=': 1.1116500198841095}},\n",
       "    'support': 5,\n",
       "    'pca_body_size': 20,\n",
       "    'pca_confidence': 0.25,\n",
       "    'head_coverage': 0.03333333333333333,\n",
       "    'f_score': 0.058823529411764705,\n",
       "    'level': 1},\n",
       "   {'parent_rule': ?b  http://dbpedia.org/ontology/capital  ?f  ?a  http://dbpedia.org/ontology/deathPlace  ?f   => ?a  http://dbpedia.org/ontology/region  ?b,\n",
       "    'include_exclude': 'exclude',\n",
       "    'numerical_part': {('?f',\n",
       "      'http://www.w3.org/2003/01/geo/wgs84_pos%23lat'): {'>': 50.18196105957031}},\n",
       "    'support': 5,\n",
       "    'pca_body_size': 18,\n",
       "    'pca_confidence': 0.2777777777777778,\n",
       "    'head_coverage': 0.03333333333333333,\n",
       "    'f_score': 0.05952380952380952,\n",
       "    'level': 1}]},\n",
       " 4: {'parent_rule': ?b  http://dbpedia.org/ontology/capital  ?f  ?a  http://dbpedia.org/ontology/restingPlace  ?f   => ?a  http://dbpedia.org/ontology/region  ?b,\n",
       "  'numerical_rules': []}}"
      ]
     },
     "execution_count": 19,
     "metadata": {},
     "output_type": "execute_result"
    }
   ],
   "source": [
    "dict_all_new_rules_f_score"
   ]
  },
  {
   "cell_type": "code",
   "execution_count": null,
   "id": "cc6e05d0",
   "metadata": {},
   "outputs": [],
   "source": []
  }
 ],
 "metadata": {
  "kernelspec": {
   "display_name": "Python 3 (ipykernel)",
   "language": "python",
   "name": "python3"
  },
  "language_info": {
   "codemirror_mode": {
    "name": "ipython",
    "version": 3
   },
   "file_extension": ".py",
   "mimetype": "text/x-python",
   "name": "python",
   "nbconvert_exporter": "python",
   "pygments_lexer": "ipython3",
   "version": "3.8.16"
  }
 },
 "nbformat": 4,
 "nbformat_minor": 5
}
